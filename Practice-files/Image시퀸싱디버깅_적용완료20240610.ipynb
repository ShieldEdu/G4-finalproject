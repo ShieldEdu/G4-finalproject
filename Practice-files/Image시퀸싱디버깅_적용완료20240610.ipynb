{
  "nbformat": 4,
  "nbformat_minor": 0,
  "metadata": {
    "colab": {
      "provenance": [],
      "authorship_tag": "ABX9TyO8V/X3bF71CXGIxTuEUHPG",
      "include_colab_link": true
    },
    "kernelspec": {
      "name": "python3",
      "display_name": "Python 3"
    },
    "language_info": {
      "name": "python"
    }
  },
  "cells": [
    {
      "cell_type": "markdown",
      "metadata": {
        "id": "view-in-github",
        "colab_type": "text"
      },
      "source": [
        "<a href=\"https://colab.research.google.com/github/ShieldEdu/G4-finalproject/blob/main/Image%EC%8B%9C%ED%80%B8%EC%8B%B1%EB%94%94%EB%B2%84%EA%B9%85.ipynb\" target=\"_parent\"><img src=\"https://colab.research.google.com/assets/colab-badge.svg\" alt=\"Open In Colab\"/></a>"
      ]
    },
    {
      "cell_type": "code",
      "source": [
        "%%capture\n",
        "!pip install gradio\n",
        "!pip install gdown\n",
        "!pip install gtts\n",
        "!pip install Pillow"
      ],
      "metadata": {
        "id": "iZFdulZU9c3G"
      },
      "execution_count": 1,
      "outputs": []
    },
    {
      "cell_type": "code",
      "execution_count": 2,
      "metadata": {
        "colab": {
          "base_uri": "https://localhost:8080/",
          "height": 922
        },
        "id": "POKyT6u89PM5",
        "outputId": "6a311ce2-7595-47ad-e650-aa55538c9a89"
      },
      "outputs": [
        {
          "output_type": "stream",
          "name": "stderr",
          "text": [
            "Downloading...\n",
            "From: https://drive.google.com/uc?id=19zhvDXwloycllKv0q8fN4AkNWJ3WC74I\n",
            "To: /content/image1.png\n",
            "100%|██████████| 1.46M/1.46M [00:00<00:00, 80.9MB/s]\n",
            "Downloading...\n",
            "From: https://drive.google.com/uc?id=1_9MzEhc_YfwYFGVLUUlFW3YpSuZk6FSV\n",
            "To: /content/image2.png\n",
            "100%|██████████| 1.75M/1.75M [00:00<00:00, 85.3MB/s]\n",
            "Downloading...\n",
            "From: https://drive.google.com/uc?id=1v1JRBsza_pnpLGv_vgORpeYDo9DLmMAD\n",
            "To: /content/image3.png\n",
            "100%|██████████| 1.13M/1.13M [00:00<00:00, 56.3MB/s]\n",
            "Downloading...\n",
            "From: https://drive.google.com/uc?id=1aunq6D-MuES5BKkkxPFYH4R5h6W6WlDE\n",
            "To: /content/image4.png\n",
            "100%|██████████| 1.23M/1.23M [00:00<00:00, 33.2MB/s]\n"
          ]
        },
        {
          "output_type": "stream",
          "name": "stdout",
          "text": [
            "Setting queue=True in a Colab notebook requires sharing enabled. Setting `share=True` (you can turn this off by setting `share=False` in `launch()` explicitly).\n",
            "\n",
            "Colab notebook detected. To show errors in colab notebook, set debug=True in launch()\n",
            "Running on public URL: https://b7fac0ac00562a1d06.gradio.live\n",
            "\n",
            "This share link expires in 72 hours. For free permanent hosting and GPU upgrades, run `gradio deploy` from Terminal to deploy to Spaces (https://huggingface.co/spaces)\n"
          ]
        },
        {
          "output_type": "display_data",
          "data": {
            "text/plain": [
              "<IPython.core.display.HTML object>"
            ],
            "text/html": [
              "<div><iframe src=\"https://b7fac0ac00562a1d06.gradio.live\" width=\"100%\" height=\"500\" allow=\"autoplay; camera; microphone; clipboard-read; clipboard-write;\" frameborder=\"0\" allowfullscreen></iframe></div>"
            ]
          },
          "metadata": {}
        },
        {
          "output_type": "execute_result",
          "data": {
            "text/plain": []
          },
          "metadata": {},
          "execution_count": 2
        }
      ],
      "source": [
        "\n",
        "\n",
        "import gradio as gr\n",
        "from PIL import Image\n",
        "import base64\n",
        "from io import BytesIO\n",
        "from gtts import gTTS\n",
        "import gdown\n",
        "\n",
        "# Define the URLs of the images\n",
        "image_urls = [\n",
        "    \"https://drive.google.com/uc?id=19zhvDXwloycllKv0q8fN4AkNWJ3WC74I\",\n",
        "    \"https://drive.google.com/uc?id=1_9MzEhc_YfwYFGVLUUlFW3YpSuZk6FSV\",\n",
        "    \"https://drive.google.com/uc?id=1v1JRBsza_pnpLGv_vgORpeYDo9DLmMAD\",\n",
        "    \"https://drive.google.com/uc?id=1aunq6D-MuES5BKkkxPFYH4R5h6W6WlDE\"\n",
        "]\n",
        "\n",
        "# Define the local file names\n",
        "image_files = [\n",
        "    \"image1.png\",\n",
        "    \"image2.png\",\n",
        "    \"image3.png\",\n",
        "    \"image4.png\"\n",
        "]\n",
        "\n",
        "# Download the images\n",
        "for url, file in zip(image_urls, image_files):\n",
        "    gdown.download(url, file, quiet=False)\n",
        "\n",
        "# Descriptions for each scene\n",
        "descriptions = [\n",
        "    \"Alex, Mia, and Sam eagerly plan their treasure hunt in a room filled with maps and exploration tools.\",\n",
        "    \"The friends hike through a dense forest, guided by their ancient map.\",\n",
        "    \"Deep in Whispering Hollow, they discover an ancient chest filled with historical artifacts.\",\n",
        "    \"The village celebrates as Alex, Mia, and Sam present their find to the local museum.\"\n",
        "]\n",
        "\n",
        "# Generate audio files for each description\n",
        "audio_files = []\n",
        "for i, desc in enumerate(descriptions):\n",
        "    tts = gTTS(desc)\n",
        "    audio_file = f\"audio_{i+1}.mp3\"\n",
        "    tts.save(audio_file)\n",
        "    audio_files.append(audio_file)\n",
        "\n",
        "# Load images\n",
        "images = [\n",
        "    Image.open(\"image1.png\"),\n",
        "    Image.open(\"image2.png\"),\n",
        "    Image.open(\"image3.png\"),\n",
        "    Image.open(\"image4.png\")\n",
        "]\n",
        "\n",
        "# Assign labels to images\n",
        "labels = ['B', 'D', 'A', 'C']\n",
        "label_image_description_audio = list(zip(labels, images, descriptions, audio_files))\n",
        "\n",
        "# Ensure the display order is A -> B -> C -> D\n",
        "display_order = ['A', 'B', 'C', 'D']\n",
        "label_image_description_audio_sorted = sorted(label_image_description_audio, key=lambda x: display_order.index(x[0]))\n",
        "\n",
        "# Function to check the order\n",
        "def check_order(a, b, c, d):\n",
        "    user_order = [a.upper(), b.upper(), c.upper(), d.upper()]\n",
        "    correct_order = ['B', 'D', 'A', 'C']\n",
        "    return \"Correct!\" if user_order == correct_order else \"Try again.\"\n",
        "\n",
        "# Helper function to convert image to base64 string\n",
        "def img_to_base64(img):\n",
        "    buffered = BytesIO()\n",
        "    img.save(buffered, format=\"PNG\")\n",
        "    img_str = base64.b64encode(buffered.getvalue()).decode()\n",
        "    return img_str\n",
        "\n",
        "# Create Gradio interface using gr.Blocks for layout control\n",
        "with gr.Blocks(css=\".small-audio { height: 180px !important; width: 230px !important; }\") as iface:\n",
        "    gr.Markdown(\"The images are displayed below with labels A, B, C, and D. Enter the correct sequence according to the story.\")\n",
        "    with gr.Row():\n",
        "        for label, img, desc, audio in label_image_description_audio_sorted:\n",
        "            with gr.Column():\n",
        "                gr.Image(value=img, label=label, width=300)  # Display image with label\n",
        "                gr.Markdown(f\"**{label}**: {desc}\")  # Display description below the image\n",
        "                gr.Audio(value=audio, elem_classes=\"small-audio\")  # Display TTS audio below the description with smaller size\n",
        "    with gr.Row():\n",
        "        a = gr.Textbox(label=\"Enter label for the first part of story\")\n",
        "        b = gr.Textbox(label=\"Enter label for the second part of story\")\n",
        "        c = gr.Textbox(label=\"Enter label for the third part of story\")\n",
        "        d = gr.Textbox(label=\"Enter label for the fourth part of story\")\n",
        "    btn = gr.Button(\"Check Order\")\n",
        "    output = gr.Textbox(label=\"Result\")\n",
        "\n",
        "    btn.click(fn=check_order, inputs=[a, b, c, d], outputs=output)\n",
        "\n",
        "iface.launch()\n"
      ]
    }
  ]
}
