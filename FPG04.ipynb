{
  "nbformat": 4,
  "nbformat_minor": 0,
  "metadata": {
    "colab": {
      "private_outputs": true,
      "provenance": [],
      "include_colab_link": true
    },
    "kernelspec": {
      "name": "python3",
      "display_name": "Python 3"
    },
    "language_info": {
      "name": "python"
    }
  },
  "cells": [
    {
      "cell_type": "markdown",
      "metadata": {
        "id": "view-in-github",
        "colab_type": "text"
      },
      "source": [
        "<a href=\"https://colab.research.google.com/github/ShieldEdu/G4-finalproject/blob/main/FPG04.ipynb\" target=\"_parent\"><img src=\"https://colab.research.google.com/assets/colab-badge.svg\" alt=\"Open In Colab\"/></a>"
      ]
    },
    {
      "cell_type": "markdown",
      "source": [
        "# 🌱**Group 4 Final Project (6/11)**\n",
        "\n",
        "+ Reading material: 💾 [text link](https://raw.githubusercontent.com/MK316/Spring2024/main/DLTESOL/project/story02.txt)\n",
        "\n",
        "## Learning objectives:\n",
        "+ objective 1: Students will be able to learn new vocabulary from the reading text.\n",
        "+ objective 2: Students will be able to enhance listening comprehension focusing on the past verb.\n",
        "+ objective 3: Students will be able to develop sequencing skills based on the understanding of the storyline.\n",
        "+ objective 4: Students will be able to foster creative writing abilities and check their own writing."
      ],
      "metadata": {
        "id": "3EGZDlOvWSAf"
      }
    },
    {
      "cell_type": "markdown",
      "source": [
        "\n",
        "\n",
        ">**Teaching Procedure**\n",
        "\n"
      ],
      "metadata": {
        "id": "V8sP5m3gGtn8"
      }
    },
    {
      "cell_type": "markdown",
      "source": [
        "# **Pre-Listening Activity: Learning New Words**\n",
        "##1. Gradio Wordcloud App: Create a word cloud from the text to highlight the most frequent words."
      ],
      "metadata": {
        "id": "aCIvfFOXKnfx"
      }
    },
    {
      "cell_type": "code",
      "source": [
        "!pip install gradio\n",
        "!pip install wordcloud\n",
        "import gradio as gr\n",
        "from wordcloud import WordCloud\n",
        "import matplotlib.pyplot as plt\n",
        "\n",
        "def create_wordcloud(text):\n",
        "    wordcloud = WordCloud(width=800, height=400, background_color='white').generate(text)\n",
        "    plt.figure(figsize=(10, 5))\n",
        "    plt.imshow(wordcloud, interpolation='bilinear')\n",
        "    plt.axis('off')\n",
        "    plt.show()\n",
        "    return plt.gcf()\n",
        "\n",
        "text = \"\"\"\n",
        "In the small mountain village of Echo Ridge, adventure was a part of everyday life. Nestled among towering peaks, the village was said to be protected by the \"Guardian of the Glen,\" a massive eagle that supposedly watched over the villagers from its perch high in the mountains. The legend inspired many adventurous tales among the villagers, especially the children.\n",
        "Among these children was a bright-eyed eighth grader named Alex. Alex was known for his daring spirit and his love for exploring the rugged landscapes around Echo Ridge. He had a particular fascination with the old maps and tales of hidden treasures that had been lost in the mountains centuries ago.\n",
        "One day, while exploring the local library, Alex stumbled upon an ancient map tucked inside a forgotten book on village lore. The map hinted at the location of a lost treasure, hidden deep within a cave known as Whispering Hollow. Excited by the prospect of a real adventure, Alex decided to seek out the treasure.\n",
        "Knowing the journey would be risky, he enlisted the help of his best friends, Mia and Sam. Together, they prepared for the expedition, gathering supplies and studying the map extensively. They planned their route, took note of landmarks, and readied themselves for any challenges they might face.\n",
        "Their journey began at dawn. They trekked through dense forests, crossed rushing streams, and climbed steep cliffs. Along the way, they encountered various wildlife and navigated through tricky terrains, their map guiding them every step of the way.\n",
        "After hours of hiking, they finally reached Whispering Hollow. The cave was more magnificent than they had imagined, filled with intricate stalactites and echoes of dripping water. Using their flashlights, they ventured deeper into the cave, guided by the markings on the map.\n",
        "As they reached the heart of the cave, they discovered an ancient chest hidden behind a fallen boulder. With hearts pounding, they moved the boulder and opened the chest. Inside, instead of gold or jewels, they found a collection of old artifacts: pottery, coins, and a beautifully carved statuette of an eagle — the Guardian of the Glen.\n",
        "Realizing the historical significance of their find, they decided to donate the artifacts to the local museum. The village celebrated their discovery, and the children were hailed as heroes. Their adventure brought the community together, sparking a renewed interest in the history and legends of Echo Ridge. Alex, Mia, and Sam became local legends, known not only for their daring but also for their spirit of discovery and respect for heritage. They continued to explore the mountains, each adventure strengthening their friendship and deepening their connection to their village.\n",
        "The legend of the Guardian of the Glen lived on, not just as a protector but as a symbol of adventure and discovery, inspiring future generations to explore the mysteries of Echo Ridge.\n",
        "\"\"\"\n",
        "\n",
        "gr.Interface(fn=create_wordcloud, inputs=\"text\", outputs=\"plot\").launch(share=True)\n"
      ],
      "metadata": {
        "id": "L6y3ySWGK9NG"
      },
      "execution_count": null,
      "outputs": []
    },
    {
      "cell_type": "markdown",
      "source": [
        "##1-2. Gradio word cloud dictionary form app: Create a word cloud from text and provide the definition and part of speech."
      ],
      "metadata": {
        "id": "fCSzZMokOixm"
      }
    },
    {
      "cell_type": "code",
      "source": [
        "!pip install gradio\n",
        "!pip install wordcloud\n",
        "!pip install matplotlib\n",
        "!pip install nltk\n",
        "!pip install translate\n",
        "\n",
        "import matplotlib.pyplot as plt\n",
        "from wordcloud import WordCloud\n",
        "import nltk\n",
        "from collections import Counter\n",
        "from translate import Translator\n",
        "from nltk.corpus import stopwords\n",
        "import gradio as gr\n",
        "\n",
        "# Download necessary NLTK data\n",
        "nltk.download('punkt')\n",
        "nltk.download('averaged_perceptron_tagger')\n",
        "nltk.download('stopwords')\n",
        "\n",
        "# Set up the translator\n",
        "translator = Translator(to_lang=\"ko\")\n",
        "stop_words = set(stopwords.words('english'))\n",
        "\n",
        "# Define example sentences and synonyms for the word list\n",
        "word_data_examples = {\n",
        "    \"village\": (\"The village was quiet at night.\", \"hamlet, community\"),\n",
        "    \"adventure\": (\"They went on an exciting adventure in the forest.\", \"expedition, quest\"),\n",
        "    \"map\": (\"We used a map to find the hidden treasure.\", \"chart, atlas\"),\n",
        "    \"cave\": (\"They explored a dark cave in the mountains.\", \"cavern, grotto\"),\n",
        "    \"among\": (\"She found her book among the pile of papers.\", \"amidst, between\"),\n",
        "    \"mountains\": (\"The mountains were covered with snow in winter.\", \"peaks, ranges\"),\n",
        "    \"children\": (\"The children played games in the park.\", \"kids, youngsters\"),\n",
        "    \"known\": (\"He was known for his kindness and bravery.\", \"recognized, famous\"),\n",
        "    \"hidden\": (\"They found a hidden door behind the bookshelf.\", \"concealed, secret\"),\n",
        "    \"local\": (\"The local market was full of fresh produce.\", \"regional, native\"),\n",
        "    \"discovery\": (\"The discovery of the old map excited everyone.\", \"finding, revelation\"),\n",
        "    \"eagle\": (\"An eagle soared high above the valley.\", \"raptor, bird of prey\"),\n",
        "    \"villagers\": (\"The villagers gathered in the square for the festival.\", \"residents, townsfolk\"),\n",
        "    \"legend\": (\"The legend of the lost city intrigued the adventurers.\", \"myth, lore\"),\n",
        "    \"tales\": (\"Grandma told us tales of her childhood.\", \"stories, narratives\"),\n",
        "    \"daring\": (\"His daring escape from the cave was legendary.\", \"bold, audacious\"),\n",
        "    \"spirit\": (\"The spirit of adventure was alive in their hearts.\", \"soul, essence\"),\n",
        "    \"exploring\": (\"They spent the summer exploring the forest.\", \"investigating, discovering\"),\n",
        "    \"old\": (\"The old castle was full of secrets.\", \"ancient, aged\"),\n",
        "    \"lost\": (\"He felt lost without his best friend.\", \"missing, misplaced\"),\n",
        "    \"ancient\": (\"They discovered ancient artifacts in the desert.\", \"archaic, antique\"),\n",
        "    \"inside\": (\"Inside the box was a beautiful necklace.\", \"within, interior\"),\n",
        "    \"treasure\": (\"They dreamed of finding hidden treasure.\", \"riches, valuables\"),\n",
        "    \"whispering\": (\"The trees were whispering secrets in the wind.\", \"murmuring, softly speaking\"),\n",
        "    \"hollow\": (\"They found a hollow tree to hide in during the storm.\", \"cavity, void\"),\n",
        "    \"decided\": (\"She decided to take the long way home.\", \"determined, resolved\"),\n",
        "    \"journey\": (\"Their journey took them across the country.\", \"trip, voyage\"),\n",
        "    \"together\": (\"They worked together to solve the mystery.\", \"jointly, collectively\"),\n",
        "    \"way\": (\"She found a new way to solve the puzzle.\", \"method, manner\"),\n",
        "    \"reached\": (\"They finally reached the top of the hill.\", \"arrived, attained\"),\n",
        "    \"chest\": (\"The chest was filled with gold coins.\", \"trunk, box\"),\n",
        "    \"boulder\": (\"A large boulder blocked the path.\", \"rock, stone\"),\n",
        "    \"artifacts\": (\"The museum displayed artifacts from ancient Egypt.\", \"relics, antiquities\"),\n",
        "    \"legends\": (\"The legends spoke of a hidden kingdom.\", \"myths, sagas\"),\n",
        "    \"explore\": (\"They wanted to explore the old mansion.\", \"investigate, examine\"),\n",
        "    \"secret\": (\"She kept the secret hidden from everyone.\", \"confidential, hidden\"),\n",
        "    \"small\": (\"The small kitten was very playful.\", \"tiny, little\"),\n",
        "    \"mountain\": (\"The mountain was covered in thick forests.\", \"peak, hill\"),\n",
        "    \"part\": (\"Each part of the puzzle was important.\", \"piece, segment\"),\n",
        "    \"everyday\": (\"He wore his everyday clothes to the party.\", \"daily, routine\"),\n",
        "    \"life\": (\"Life in the village was peaceful.\", \"existence, being\"),\n",
        "    \"nestled\": (\"The cabin was nestled in the woods.\", \"tucked, situated\"),\n",
        "    \"towering\": (\"The towering trees made the forest dark and cool.\", \"lofty, soaring\"),\n",
        "    \"peaks\": (\"The mountain peaks were covered in snow.\", \"summits, crests\"),\n",
        "    \"said\": (\"He said he would be back soon.\", \"stated, remarked\"),\n",
        "    \"protected\": (\"The ancient ruins were protected by law.\", \"guarded, sheltered\"),\n",
        "    \"massive\": (\"The massive ship docked at the port.\", \"enormous, huge\"),\n",
        "    \"supposedly\": (\"The treasure was supposedly buried under the tree.\", \"allegedly, reportedly\"),\n",
        "    \"watched\": (\"They watched the movie together.\", \"observed, viewed\"),\n",
        "    \"perch\": (\"The bird found a perch on the windowsill.\", \"roost, rest\")\n",
        "}\n",
        "\n",
        "# Words to be excluded from both the word cloud and the word list\n",
        "exclude_words = set([\n",
        "    'i', 'you', 'he', 'she', 'it', 'we', 'they', 'me', 'him', 'her', 'us', 'them',\n",
        "    'my', 'your', 'his', 'its', 'our', 'their', 'mine', 'yours', 'hers', 'ours', 'theirs',\n",
        "    'alex', 'mia', 'sam', 'echo', 'ridge', 'guardian', 'of', 'the', 'glen'\n",
        "])\n",
        "\n",
        "def process_text(text):\n",
        "    words = nltk.word_tokenize(text)\n",
        "    words = [word.lower() for word in words if word.isalnum() and word.lower() not in stop_words and word.lower() not in exclude_words]\n",
        "    word_freq = Counter(words)\n",
        "    pos_tags = nltk.pos_tag(words)\n",
        "    return word_freq, pos_tags\n",
        "\n",
        "def generate_wordcloud(word_freq):\n",
        "    wordcloud = WordCloud(width=800, height=400, background_color='white').generate_from_frequencies(word_freq)\n",
        "    plt.figure(figsize=(10, 5))\n",
        "    plt.imshow(wordcloud, interpolation='bilinear')\n",
        "    plt.axis('off')\n",
        "    plt.savefig('wordcloud.png')\n",
        "    return 'wordcloud.png'\n",
        "\n",
        "def translate_and_get_pos(word_freq, pos_tags):\n",
        "    pos_map = {\n",
        "        'NN': 'n.', 'NNS': 'n.', 'VB': 'v.', 'VBD': 'v.', 'VBG': 'v.', 'VBN': 'v.',\n",
        "        'VBP': 'v.', 'VBZ': 'v.', 'JJ': 'adj.', 'JJR': 'adj.', 'JJS': 'adj.', 'RB': 'adv.',\n",
        "        'RBR': 'adv.', 'RBS': 'adv.'\n",
        "    }\n",
        "\n",
        "    word_data = []\n",
        "    for word, freq in word_freq.items():\n",
        "        pos = [pos_tag[1] for pos_tag in pos_tags if pos_tag[0] == word]\n",
        "        if pos and (pos[0] in ['NNP', 'NNPS'] or word in exclude_words):\n",
        "            continue  # Skip proper nouns, pronouns, and specific excluded words\n",
        "        translation = translator.translate(word)\n",
        "        pos = pos_map.get(pos[0], 'N/A') if pos else 'N/A'\n",
        "        example_sentence, synonyms = word_data_examples.get(word, (f\"ex) The word '{word}' in a sentence.\", \"\"))\n",
        "        word_data.append((word, freq, translation, pos, example_sentence, synonyms))\n",
        "    word_data.sort(key=lambda x: x[1], reverse=True)\n",
        "    return word_data[:50]\n",
        "\n",
        "def main(text):\n",
        "    word_freq, pos_tags = process_text(text)\n",
        "    wordcloud_image = generate_wordcloud(word_freq)\n",
        "    word_data = translate_and_get_pos(word_freq, pos_tags)\n",
        "\n",
        "    word_data_str = \"\\n\".join([f\"{i+1}. {word}: {pos} {translation}, ex) {example_sentence} 동의어: {synonyms}.\" for i, (word, freq, translation, pos, example_sentence, synonyms) in enumerate(word_data)])\n",
        "    return wordcloud_image, word_data_str\n",
        "\n",
        "# Custom CSS for the Gradio interface\n",
        "css = \"\"\"\n",
        "<style>\n",
        "body {\n",
        "    background-color: skyblue !important;\n",
        "}\n",
        ".gr-button {\n",
        "    background-color: blue !important;\n",
        "    border-color: blue !important;\n",
        "}\n",
        "</style>\n",
        "\"\"\"\n",
        "\n",
        "# Gradio interface\n",
        "interface = gr.Interface(\n",
        "    fn=main,\n",
        "    inputs=\"text\",\n",
        "    outputs=[\"image\", \"text\"],\n",
        "    title=\"Language Learning App\",\n",
        "    description=\"Input text to generate a word cloud and a frequency list with Korean meanings, parts of speech, and example sentences.\",\n",
        ")\n",
        "\n",
        "# Launch the interface and include the custom CSS\n",
        "interface.launch()\n",
        "gr.HTML(css)\n"
      ],
      "metadata": {
        "id": "xaKvUYeWOes-"
      },
      "execution_count": null,
      "outputs": []
    },
    {
      "cell_type": "markdown",
      "source": [
        "## 2. Gradio TTS App"
      ],
      "metadata": {
        "id": "ALOfAcx5Mho_"
      }
    },
    {
      "cell_type": "code",
      "source": [
        "!pip install gtts\n",
        "import gradio as gr\n",
        "from gtts import gTTS\n",
        "\n",
        "def text_to_speech(text):\n",
        "    tts = gTTS(text)\n",
        "    tts.save(\"output.mp3\")\n",
        "    return \"output.mp3\"\n",
        "\n",
        "text = \"\"\"\n",
        "In the small mountain village of Echo Ridge, adventure was a part of everyday life. Nestled among towering peaks, the village was said to be protected by the \"Guardian of the Glen,\" a massive eagle that supposedly watched over the villagers from its perch high in the mountains. The legend inspired many adventurous tales among the villagers, especially the children.\n",
        "Among these children was a bright-eyed eighth grader named Alex. Alex was known for his daring spirit and his love for exploring the rugged landscapes around Echo Ridge. He had a particular fascination with the old maps and tales of hidden treasures that had been lost in the mountains centuries ago.\n",
        "One day, while exploring the local library, Alex stumbled upon an ancient map tucked inside a forgotten book on village lore. The map hinted at the location of a lost treasure, hidden deep within a cave known as Whispering Hollow. Excited by the prospect of a real adventure, Alex decided to seek out the treasure.\n",
        "Knowing the journey would be risky, he enlisted the help of his best friends, Mia and Sam. Together, they prepared for the expedition, gathering supplies and studying the map extensively. They planned their route, took note of landmarks, and readied themselves for any challenges they might face.\n",
        "Their journey began at dawn. They trekked through dense forests, crossed rushing streams, and climbed steep cliffs. Along the way, they encountered various wildlife and navigated through tricky terrains, their map guiding them every step of the way.\n",
        "After hours of hiking, they finally reached Whispering Hollow. The cave was more magnificent than they had imagined, filled with intricate stalactites and echoes of dripping water. Using their flashlights, they ventured deeper into the cave, guided by the markings on the map.\n",
        "As they reached the heart of the cave, they discovered an ancient chest hidden behind a fallen boulder. With hearts pounding, they moved the boulder and opened the chest. Inside, instead of gold or jewels, they found a collection of old artifacts: pottery, coins, and a beautifully carved statuette of an eagle — the Guardian of the Glen.\n",
        "Realizing the historical significance of their find, they decided to donate the artifacts to the local museum. The village celebrated their discovery, and the children were hailed as heroes. Their adventure brought the community together, sparking a renewed interest in the history and legends of Echo Ridge. Alex, Mia, and Sam became local legends, known not only for their daring but also for their spirit of discovery and respect for heritage. They continued to explore the mountains, each adventure strengthening their friendship and deepening their connection to their village.\n",
        "The legend of the Guardian of the Glen lived on, not just as a protector but as a symbol of adventure and discovery, inspiring future generations to explore the mysteries of Echo Ridge.\n",
        "\"\"\"\n",
        "\n",
        "gr.Interface(fn=text_to_speech, inputs=\"text\", outputs=\"audio\").launch(share=True)\n"
      ],
      "metadata": {
        "id": "5I9a_KObMgB0"
      },
      "execution_count": null,
      "outputs": []
    },
    {
      "cell_type": "markdown",
      "source": [
        "## 3. Gradio Cloze Question App"
      ],
      "metadata": {
        "id": "Ni8M7wB0MfwT"
      }
    },
    {
      "cell_type": "code",
      "source": [
        "import gradio as gr\n",
        "\n",
        "def create_cloze(text):\n",
        "    # Replace past tense verbs with blanks\n",
        "    cloze_text = text.replace(\"was\", \"___\").replace(\"said\", \"___\").replace(\"watched\", \"___\").replace(\"inspired\", \"___\").replace(\"exploring\", \"___\").replace(\"stumbled\", \"___\").replace(\"decided\", \"___\").replace(\"prepared\", \"___\").replace(\"guided\", \"___\").replace(\"reached\", \"___\").replace(\"discovered\", \"___\").replace(\"moved\", \"___\").replace(\"opened\", \"___\").replace(\"found\", \"___\").replace(\"became\", \"___\")\n",
        "    return cloze_text\n",
        "\n",
        "text = \"\"\"\n",
        "In the small mountain village of Echo Ridge, adventure was a part of everyday life. Nestled among towering peaks, the village was said to be protected by the \"Guardian of the Glen,\" a massive eagle that supposedly watched over the villagers from its perch high in the mountains. The legend inspired many adventurous tales among the villagers, especially the children.\n",
        "Among these children was a bright-eyed eighth grader named Alex. Alex was known for his daring spirit and his love for exploring the rugged landscapes around Echo Ridge. He had a particular fascination with the old maps and tales of hidden treasures that had been lost in the mountains centuries ago.\n",
        "One day, while exploring the local library, Alex stumbled upon an ancient map tucked inside a forgotten book on village lore. The map hinted at the location of a lost treasure, hidden deep within a cave known as Whispering Hollow. Excited by the prospect of a real adventure, Alex decided to seek out the treasure.\n",
        "Knowing the journey would be risky, he enlisted the help of his best friends, Mia and Sam. Together, they prepared for the expedition, gathering supplies and studying the map extensively. They planned their route, took note of landmarks, and readied themselves for any challenges they might face.\n",
        "Their journey began at dawn. They trekked through dense forests, crossed rushing streams, and climbed steep cliffs. Along the way, they encountered various wildlife and navigated through tricky terrains, their map guiding them every step of the way.\n",
        "After hours of hiking, they finally reached Whispering Hollow. The cave was more magnificent than they had imagined, filled with intricate stalactites and echoes of dripping water. Using their flashlights, they ventured deeper into the cave, guided by the markings on the map.\n",
        "As they reached the heart of the cave, they discovered an ancient chest hidden behind a fallen boulder. With hearts pounding, they moved the boulder and opened the chest. Inside, instead of gold or jewels, they found a collection of old artifacts: pottery, coins, and a beautifully carved statuette of an eagle — the Guardian of the Glen.\n",
        "Realizing the historical significance of their find, they decided to donate the artifacts to the local museum. The village celebrated their discovery, and the children were hailed as heroes. Their adventure brought the community together, sparking a renewed interest in the history and legends of Echo Ridge. Alex, Mia, and Sam became local legends, known not only for their daring but also for their spirit of discovery and respect for heritage. They continued to explore the mountains, each adventure strengthening their friendship and deepening their connection to their village.\n",
        "The legend of the Guardian of the Glen lived on, not just as a protector but as a symbol of adventure and discovery, inspiring future generations to explore the mysteries of Echo Ridge.\n",
        "\"\"\"\n",
        "\n",
        "gr.Interface(fn=create_cloze, inputs=\"text\", outputs=\"text\").launch(share=True)\n"
      ],
      "metadata": {
        "id": "BoJkcJjINhSy"
      },
      "execution_count": null,
      "outputs": []
    },
    {
      "cell_type": "markdown",
      "source": [
        "## 4.Gradio Verb Base Form App\n",
        "*지문에 있는 동사만 체크 가능"
      ],
      "metadata": {
        "id": "BuiP1Z5DNPJY"
      }
    },
    {
      "cell_type": "code",
      "source": [
        "import gradio as gr\n",
        "\n",
        "def verb_to_base(past_tense):\n",
        "    base_forms = {\n",
        "        \"was\": \"be\", \"said\": \"say\", \"watched\": \"watch\", \"inspired\": \"inspire\", \"exploring\": \"explore\",\n",
        "        \"stumbled\": \"stumble\", \"decided\": \"decide\", \"prepared\": \"prepare\", \"guided\": \"guide\",\n",
        "        \"reached\": \"reach\", \"discovered\": \"discover\", \"moved\": \"move\", \"opened\": \"open\", \"found\": \"find\",\n",
        "        \"became\": \"become\"\n",
        "    }\n",
        "    return base_forms.get(past_tense, \"Unknown\")\n",
        "\n",
        "gr.Interface(fn=verb_to_base, inputs=\"text\", outputs=\"text\").launch(share=True)\n"
      ],
      "metadata": {
        "id": "ZxjdicZENmk_"
      },
      "execution_count": null,
      "outputs": []
    },
    {
      "cell_type": "markdown",
      "source": [
        "## 5. Gradio Image Sequencing App\n",
        "*안 됨. 이미지 업로드 해봤으나, 학생분들 입장에서 어떻게 순서를 맞추는지 INPUT칸이 나오지 않는 문제 발생.\n",
        "*그래서 경희쌤이 만들어 주신 Sequencing 앱을 맨 아래에 넣었습니다."
      ],
      "metadata": {
        "id": "k9jk3A6qNjnx"
      }
    },
    {
      "cell_type": "code",
      "source": [
        "from google.colab import files\n",
        "uploaded = files.upload()"
      ],
      "metadata": {
        "id": "XpYgJ3wqSofq"
      },
      "execution_count": null,
      "outputs": []
    },
    {
      "cell_type": "code",
      "source": [
        "from google.colab import files\n",
        "uploaded = files.upload()"
      ],
      "metadata": {
        "id": "S2yl1VhyNnDL"
      },
      "execution_count": null,
      "outputs": []
    },
    {
      "cell_type": "code",
      "source": [
        "from google.colab import files\n",
        "uploaded = files.upload()"
      ],
      "metadata": {
        "id": "WptY6XBfSnXj"
      },
      "execution_count": null,
      "outputs": []
    },
    {
      "cell_type": "code",
      "source": [
        "from google.colab import files\n",
        "uploaded = files.upload()"
      ],
      "metadata": {
        "id": "N7nTIuZpSwp1"
      },
      "execution_count": null,
      "outputs": []
    },
    {
      "cell_type": "code",
      "source": [
        "from PIL import Image\n",
        "import gradio as gr\n",
        "\n",
        "def sequence_images(image1, image2, image3, image4):\n",
        "    # Assuming the correct sequence is image1, image2, image3, image4\n",
        "    correct_sequence = [\"image1.png\", \"image2.png\", \"image3.png\", \"image4.png\"]\n",
        "    user_sequence = [image1, image2, image3, image4]\n",
        "\n",
        "    if user_sequence == correct_sequence:\n",
        "        return \"Correct!\"\n",
        "    else:\n",
        "        return \"Try again!\"\n",
        "\n",
        "# Open the images\n",
        "image1 = Image.open(\"image1.png\")\n",
        "image2 = Image.open(\"image2.png\")\n",
        "image3 = Image.open(\"image3.png\")\n",
        "image4 = Image.open(\"image4.png\")\n",
        "\n",
        "gr.Interface(fn=sequence_images, inputs=[\"image\", \"image\", \"image\", \"image\"], outputs=\"text\").launch(share=True)\n"
      ],
      "metadata": {
        "id": "vLlzfCnsS3ic"
      },
      "execution_count": null,
      "outputs": []
    },
    {
      "cell_type": "code",
      "source": [
        "import gradio as gr\n",
        "import random\n",
        "\n",
        "# Define images and corresponding sentences\n",
        "images_and_sentences = [\n",
        "    {\n",
        "        \"image\": \"https://raw.githubusercontent.com/englissi/englissi/main/Sample/DALL%C2%B7E%202024-05-22%2003.13.18%20-%20A%20digital%20illustration%20of%20the%20village%20of%20Echo%20Ridge%20nestled%20among%20towering%20peaks.%20The%20village%20has%20quaint%20houses%20with%20thatched%20roofs%2C%20surrounded%20by%20lus.webp\",\n",
        "        \"sentence\": \"This is the village of Echo Ridge.\"\n",
        "    },\n",
        "    {\n",
        "        \"image\": \"https://raw.githubusercontent.com/englissi/englissi/main/Sample/DALL%C2%B7E%202024-05-22%2003.11.54%20-%20A%20digital%20illustration%20of%20the%20Guardian%20of%20the%20Glen%2C%20a%20massive%20eagle%2C%20perched%20high%20in%20the%20mountains%20overlooking%20a%20small%20mountain%20village.%20The%20eagle%20is%20.webp\",\n",
        "        \"sentence\": \"This is the Guardian of the Glen, a massive eagle.\"\n",
        "    },\n",
        "    {\n",
        "        \"image\": \"https://raw.githubusercontent.com/englissi/englissi/main/Sample/DALL%C2%B7E%202024-05-22%2003.11.57%20-%20A%20digital%20illustration%20of%20a%20bright-eyed%20eighth%20grader%20named%20Alex%20finding%20an%20ancient%20map%20in%20a%20dimly%20lit%20library.%20The%20map%20is%20tucked%20inside%20a%20forgotten%20b.webp\",\n",
        "        \"sentence\": \"Alex found an ancient map in the library.\"\n",
        "    },\n",
        "    {\n",
        "        \"image\": \"https://raw.githubusercontent.com/englissi/englissi/main/Sample/DALL%C2%B7E%202024-05-22%2003.12.00%20-%20A%20digital%20illustration%20of%20the%20treasure%20hidden%20in%20Whispering%20Hollow.%20The%20cave%20is%20filled%20with%20intricate%20stalactites%20and%20echoes%20of%20dripping%20water%2C%20with%20t.webp\",\n",
        "        \"sentence\": \"The treasure was hidden in Whispering Hollow.\"\n",
        "    },\n",
        "    {\n",
        "        \"image\": \"https://raw.githubusercontent.com/englissi/englissi/main/Sample/DALL%C2%B7E%202024-05-22%2003.12.03%20-%20A%20digital%20illustration%20of%20old%20artifacts%20inside%20an%20ancient%20chest.%20The%20chest%20is%20filled%20with%20pottery%2C%20coins%2C%20and%20a%20beautifully%20carved%20statuette%20of%20an%20eag.webp\",\n",
        "        \"sentence\": \"They found old artifacts inside the ancient chest.\"\n",
        "    },\n",
        "]\n",
        "\n",
        "# Shuffle the images and sentences\n",
        "random.shuffle(images_and_sentences)\n",
        "\n",
        "# Extract the sentences\n",
        "sentences = [item[\"sentence\"] for item in images_and_sentences]\n",
        "\n",
        "# Function to check the answer\n",
        "def check_answer(state, selected_sentence):\n",
        "    image_index = state[\"current_index\"] - 1\n",
        "    correct_sentence = images_and_sentences[image_index][\"sentence\"]\n",
        "    if selected_sentence == correct_sentence:\n",
        "        state[\"score\"] += 1\n",
        "        feedback = \"Correct!\"\n",
        "    else:\n",
        "        feedback = f\"Incorrect. The correct answer is: {correct_sentence}\"\n",
        "    return state, feedback\n",
        "\n",
        "# Function to start the game\n",
        "def start_game():\n",
        "    state = {\"current_index\": 0, \"score\": 0}\n",
        "    state, image_update, dropdown_update, button_update, feedback_update = load_next(state)\n",
        "    return state, image_update, dropdown_update, button_update, feedback_update, gr.update(visible=True)\n",
        "\n",
        "# Function to load the next image and sentence\n",
        "def load_next(state):\n",
        "    current_index = state[\"current_index\"]\n",
        "    if current_index >= len(images_and_sentences):\n",
        "        return state, gr.update(visible=False), gr.update(visible=False), gr.update(visible=False), gr.update(value=f\"Game Over! Your score: {state['score']} out of {len(images_and_sentences)}\", visible=True)\n",
        "\n",
        "    image = images_and_sentences[current_index][\"image\"]\n",
        "    current_index += 1\n",
        "    state[\"current_index\"] = current_index\n",
        "    return state, gr.update(value=image, visible=True), gr.update(choices=sentences, value=None, visible=True), gr.update(visible=True), gr.update(value=\"\")\n",
        "\n",
        "# Create the Gradio interface\n",
        "with gr.Blocks() as iface:\n",
        "    state = gr.State()\n",
        "\n",
        "    gr.Markdown(\"# Image Matching Game\")\n",
        "\n",
        "    with gr.Row():\n",
        "        with gr.Column():\n",
        "            image_display = gr.Image(interactive=False, visible=False)\n",
        "        with gr.Column():\n",
        "            sentence_dropdown = gr.Dropdown(label=\"Select the matching sentence\", choices=[], visible=False)\n",
        "            check_button = gr.Button(\"Check Answer\", visible=False)\n",
        "            feedback_output = gr.Textbox(label=\"Feedback\", interactive=False)\n",
        "            next_button = gr.Button(\"Next\", visible=False)\n",
        "\n",
        "    start_button = gr.Button(\"Start Game\")\n",
        "\n",
        "    start_button.click(start_game, outputs=[state, image_display, sentence_dropdown, check_button, feedback_output, next_button])\n",
        "    check_button.click(check_answer, inputs=[state, sentence_dropdown], outputs=[state, feedback_output])\n",
        "    next_button.click(load_next, inputs=state, outputs=[state, image_display, sentence_dropdown, check_button, feedback_output])\n",
        "\n",
        "iface.launch(share=True)"
      ],
      "metadata": {
        "id": "2P4GV1FXb6rf"
      },
      "execution_count": null,
      "outputs": []
    },
    {
      "cell_type": "markdown",
      "source": [
        "## 6. Gradio Writing Checker App\n",
        "*완전 안 됨->올바른 text를 넣으면 오류가 나서 나옴.\n",
        "*학습 목표에 맞게 past tense만 고치는 것도 시도해 봤으나(아래 코딩) 전혀 작동하지 않음. -> 향후 주어진 문장을 주고 고쳐서 써보게 하거나, 틀린 점을 찾는 방향으로 수정해야 할 것 같음.\n",
        "*Sample texts:\n",
        " If I were Alex, I would start a business with the friends using the artifacts. This is because they have to consider their future career after the adventure, and it's also crucial to think of  the other friends, Mia and Sam. I should ask them first about how they want to deal with the historical items."
      ],
      "metadata": {
        "id": "GkXmQ0Y-O3nl"
      }
    },
    {
      "cell_type": "code",
      "source": [
        "!pip install textblob\n",
        "import gradio as gr\n",
        "from textblob import TextBlob\n",
        "\n",
        "def check_writing(text):\n",
        "    blob = TextBlob(text)\n",
        "    corrected_text = blob.correct()\n",
        "    return str(corrected_text)\n",
        "\n",
        "gr.Interface(fn=check_writing, inputs=\"text\", outputs=\"text\").launch(share=True)\n"
      ],
      "metadata": {
        "id": "RPZvZ2siO8RR"
      },
      "execution_count": null,
      "outputs": []
    },
    {
      "cell_type": "code",
      "source": [
        "# Step 1: Install Gradio and TextBlob\n",
        "!pip install textblob\n",
        "\n",
        "# Step 2: Download TextBlob Language Data\n",
        "!python -m textblob.download_corpora\n",
        "\n",
        "# Step 3: Implement the Gradio Writing Checker App\n",
        "import gradio as gr\n",
        "from textblob import TextBlob\n",
        "\n",
        "def check_past_tense(text):\n",
        "    blob = TextBlob(text)\n",
        "    corrected_text = blob.correct()\n",
        "\n",
        "    # Find differences and highlight past tense corrections\n",
        "    corrections = []\n",
        "    for word, corrected_word in zip(blob.words, corrected_text.words):\n",
        "        if word != corrected_word:\n",
        "            corrections.append((word, corrected_word))\n",
        "\n",
        "    # Generate the output with corrections highlighted\n",
        "    output = text\n",
        "    for word, corrected_word in corrections:\n",
        "        output = output.replace(word, f\"**{corrected_word}**\")\n",
        "\n",
        "    return output\n",
        "\n",
        "gr.Interface(\n",
        "    fn=check_past_tense,\n",
        "    inputs=\"text\",\n",
        "    outputs=\"text\",\n",
        "    title=\"Past Tense Verb Checker\",\n",
        "    description=\"Check and correct past tense verb mistakes in your text.\"\n",
        ").launch(share=True)\n"
      ],
      "metadata": {
        "id": "1Y8d2dWXYbKX"
      },
      "execution_count": null,
      "outputs": []
    }
  ]
}